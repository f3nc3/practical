{
  "nbformat": 4,
  "nbformat_minor": 0,
  "metadata": {
    "colab": {
      "provenance": []
    },
    "kernelspec": {
      "name": "python3",
      "display_name": "Python 3"
    },
    "language_info": {
      "name": "python"
    }
  },
  "cells": [
    {
      "cell_type": "code",
      "execution_count": 2,
      "metadata": {
        "id": "M7ItEIzd2EpH"
      },
      "outputs": [],
      "source": [
        "import pandas as pd\n",
        "\n",
        "stream = [1, 2, 7, 1, 4, 9, 4, 6, 1, 6, 4, 4, 5, 5, 5, 9, 8, 7, 2, 2, 4, 4, 1]\n",
        "x0 = 1\n",
        "x1 = 5\n",
        "x2 = 8\n",
        "n = len(stream)\n",
        "def count_occurrences(stream, pos):\n",
        "  element = stream[pos-1]\n",
        "  return sum(1 for elem in stream[pos-1:] if elem == element)\n",
        "\n",
        "data = {'x': [x0, x1, x2], 'x.el': [stream[x0-1], stream[x1-1], stream[x2-1]]}\n",
        "data['x.val'] = [count_occurrences(stream, x) for x in data['x']]\n",
        "data['n(2*x.val-1)'] = [n * (2 *val-1) for val in data['x.val']]\n",
        "average = sum(data['n(2*x.val-1)']) / len(data['n(2*x.val-1)'])\n",
        "print(pd.DataFrame(data))\n",
        "print(f\"\\nResult = {average}\")"
      ]
    },
    {
      "cell_type": "code",
      "source": [
        "import pandas as pd\n",
        "\n",
        "hash1 = lambda x: (3 * x + 1) % 5\n",
        "hash2 = lambda x: (x + 3) % 5\n",
        "numbers = [1,3,2,1,2,3,4,3,1]\n",
        "\n",
        "def dec_to_binary(x):\n",
        "  return format(x, 'b').zfill(2)\n",
        "\n",
        "def CountTrailingZeros(n):\n",
        "    bit = bin(n)[2:]\n",
        "    bit = bit[::-1]\n",
        "    zero = 0;\n",
        "    for i in range(len(bit)):\n",
        "        if (bit[i] == '0'):\n",
        "            zero += 1\n",
        "        else:\n",
        "            break\n",
        "    return zero\n",
        "\n",
        "df = {'Number': numbers, 'Hash1': [hash1(x) for x in numbers], 'Hash2': [hash2(x) for x in numbers]}\n",
        "df['Binary1'] = [dec_to_binary(x) for x in df['Hash1']]\n",
        "df['Binary2'] = [dec_to_binary(x) for x in df['Hash2']]\n",
        "df['r1'] = [CountTrailingZeros(int(x,2)) for x in df['Binary1']]\n",
        "df['r2'] = [CountTrailingZeros(int(x,2)) for x in df['Binary2']]\n",
        "print(pd.DataFrame(df))\n",
        "df['r1'] = pd.Series(df['r1'])\n",
        "df['r2'] = pd.Series(df['r2'])\n",
        "r1max = df['r1'].max()\n",
        "r2max = df['r2'].max()\n",
        "R = int((r1max + r2max) / 2)\n",
        "result = 2**R\n",
        "print(\"Maximum value of r1:\", r1max)\n",
        "print(\"Maximum value of r2:\", r2max)\n",
        "print(\"Average of max(r1) and max(r2): (R) = \", R)\n",
        "print(f\"Estimated number of distinct elements: 2^R = 2^{R} = {result}\")"
      ],
      "metadata": {
        "id": "KsrWd2F7QZsd"
      },
      "execution_count": 2,
      "outputs": []
    },
    {
      "cell_type": "code",
      "source": [
        "import pandas as pd\n",
        "bit_array = 13\n",
        "bloom_filter = [0] * bit_array\n",
        "hash1 = lambda x: (x + 1) % 13\n",
        "hash2 = lambda x: (2 * x + 5) % 13\n",
        "numbers = [8, 17, 25, 9, 20]\n",
        "for num in numbers:\n",
        " index1 = hash1(num)\n",
        " index2 = hash2(num)\n",
        " bloom_filter[index1] = 1\n",
        " bloom_filter[index2] = 1\n",
        "data = {'Number': numbers, 'Hash1': [hash1(x) for x in numbers], 'Hash2': [hash2(x) for x in numbers]}\n",
        "print(pd.DataFrame(data))\n",
        "print(\"\\nBloom filter values:\", bloom_filter)\n",
        "check_num = 7\n",
        "check1 = hash1(check_num)\n",
        "check2 = hash2(check_num)\n",
        "print(f\"\\nCheck for new number {check_num}.\")\n",
        "if bloom_filter[check1] == 1 and bloom_filter[check2] == 1:\n",
        " print(f\"Result: {check_num} might be in the set (Possible False Positive)\")\n",
        "else:\n",
        " print(f\"Result: {check_num} is definitely not in the set\")\n",
        "print(f\"Hash values of new number are hash1 = {check1} and hash2 = {check2}.\")"
      ],
      "metadata": {
        "id": "A9A-NBzEQfMQ"
      },
      "execution_count": null,
      "outputs": []
    }
  ]
}